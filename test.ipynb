{
 "cells": [
  {
   "cell_type": "code",
   "execution_count": 1,
   "metadata": {},
   "outputs": [
    {
     "name": "stdout",
     "output_type": "stream",
     "text": [
      "[0. 1. 2. 3. 4. 5. 6.]\n",
      "[ 1.  2.  4.  6.  8. 10. 11.]\n"
     ]
    }
   ],
   "source": [
    "# gradient vs scalar field\n",
    "\n",
    "import numpy as np\n",
    "\n",
    "dx = 1\n",
    "\n",
    "x = np.arange(0, 6.1, dx)\n",
    "\n",
    "print(x)\n",
    "\n",
    "f_x = x ** 2\n",
    "\n",
    "df_x = np.gradient(f_x, dx)\n",
    "\n",
    "print(df_x)"
   ]
  },
  {
   "cell_type": "code",
   "execution_count": 2,
   "metadata": {},
   "outputs": [
    {
     "data": {
      "text/plain": [
       "(array([161.        , 163.08795922, 161.06018538, 164.03341105,\n",
       "        164.90262577, 165.30451788, 164.8253893 , 163.53242265,\n",
       "        166.07362132, 165.04141018]),\n",
       " array([162.08795922, 160.06018538, 163.03341105, 163.90262577,\n",
       "        164.30451788, 163.8253893 , 162.53242265, 165.07362132,\n",
       "        164.04141018, 163.15946431]))"
      ]
     },
     "execution_count": 2,
     "metadata": {},
     "output_type": "execute_result"
    }
   ],
   "source": [
    "# prediction & measurement relationship\n",
    "\n",
    "import numpy as np\n",
    "\n",
    "initial_weight = 160\n",
    "np.random.seed(2)\n",
    "weights = np.random.uniform(155, 175, 10)\n",
    "dt = 1\n",
    "dr = 1\n",
    "K = 0.4\n",
    "\n",
    "def weight_gain(weights, initial_weight, dt, dr, K):\n",
    "\n",
    "    num_weights = len(weights)\n",
    "    predictions = np.zeros(num_weights)\n",
    "    estimates = np.zeros(num_weights)\n",
    "    prediction = 0\n",
    "    estimate = initial_weight\n",
    "      \n",
    "    for i, z in enumerate(weights):\n",
    "\n",
    "        # Prediction based on weight change\n",
    "        prediction = estimate + dt * dr\n",
    "        \n",
    "        # Update estimate using the new weight value\n",
    "        estimate = prediction + K * (z - prediction)\n",
    "\n",
    "        estimates[i] = estimate\n",
    "        predictions[i] = prediction\n",
    "\n",
    "    return predictions, estimates\n",
    "\n",
    "weight_gain(weights, initial_weight, dt, dr, K)\n"
   ]
  },
  {
   "cell_type": "code",
   "execution_count": 3,
   "metadata": {},
   "outputs": [
    {
     "data": {
      "text/plain": [
       "(array([161.        , 162.81596941, 162.44270539, 163.13460462,\n",
       "        163.99805682, 164.68429879, 164.44726004, 162.60393509,\n",
       "        162.19505541, 161.42558715]),\n",
       " array([162.08795922, 159.8969915 , 163.86292306, 163.36334191,\n",
       "        163.76177651, 163.45325784, 162.3055451 , 164.51652878,\n",
       "        161.71427063, 160.98997049]))"
      ]
     },
     "execution_count": 3,
     "metadata": {},
     "output_type": "execute_result"
    }
   ],
   "source": [
    "# g & h filter\n",
    "\n",
    "dr = 1\n",
    "dt = 1\n",
    "K = 0.4\n",
    "gain_scale = 0.3\n",
    "\n",
    "np.random.seed(2)\n",
    "weights = np.random.uniform(155, 175, 10)\n",
    "initial_weight = 160\n",
    "\n",
    "def weight_gain(weights, initial_weight, dt, dr, K):\n",
    "\n",
    "    num_weights = len(weights)\n",
    "    predictions = np.zeros(num_weights)\n",
    "    estimates = np.zeros(num_weights)\n",
    "    weight = initial_weight\n",
    "      \n",
    "    for i, z in enumerate(weights):\n",
    "\n",
    "        # Prediction step\n",
    "        weight = weight + dr * dt\n",
    "        dr = dr\n",
    "        predictions[i] = weight\n",
    "        \n",
    "        # Update step\n",
    "        dr = dr + gain_scale * ((z - weight) / dt)\n",
    "        estimate = weight + K * (z - weight)\n",
    "\n",
    "        estimates[i] = estimate\n",
    "\n",
    "    return predictions, estimates\n",
    "\n",
    "weight_gain(weights, initial_weight, dt, dr, K)\n"
   ]
  },
  {
   "cell_type": "code",
   "execution_count": 10,
   "metadata": {},
   "outputs": [
    {
     "data": {
      "text/plain": [
       "array([162.08795922, 160.54976703, 162.30736897, 163.55297363,\n",
       "       164.22674197, 163.66492334, 161.7048746 , 163.06225343,\n",
       "       162.61670016, 161.599667  ])"
      ]
     },
     "execution_count": 10,
     "metadata": {},
     "output_type": "execute_result"
    }
   ],
   "source": [
    "# g & h filter refactored\n",
    "\n",
    "dt = 1 # timestep\n",
    "g = 0.4 # where in between measurement and predicition (g is proportional to priority of measurement)\n",
    "h = 0.3 # where in between previous gain rate and current gain rate (h is reactivity to change)\n",
    "\n",
    "x0 = 160 # initial state\n",
    "dx0 = 1 # initial gain rate\n",
    "\n",
    "np.random.seed(2)\n",
    "xm = np.random.uniform(155, 175, 10) # measurements\n",
    "\n",
    "def g_h_filter(xm, x0, dx0, a, b, dt):\n",
    "\n",
    "    x = 0 # state\n",
    "    dx = 0 # gain rate\n",
    "    rk = 0 # residual   \n",
    "\n",
    "    num= len(xm)\n",
    "    estimates = np.zeros(num)\n",
    "\n",
    "    for i, xm in enumerate(xm):\n",
    "\n",
    "        # prediction \n",
    "        x = x0 + dx0 * dt # initial state\n",
    "        dx = dx0 # initial gain rate\n",
    "\n",
    "        # update\n",
    "        r = xm - x # residual\n",
    "        x0 = x + g * r # state\n",
    "        dx0 = dx + (h * r) / dt # gain rate\n",
    "\n",
    "        # store\n",
    "        estimates[i] = x0\n",
    "    \n",
    "    return estimates\n",
    "\n",
    "g_h_filter(xm, x0, dx0, a, b, dt)"
   ]
  },
  {
   "cell_type": "code",
   "execution_count": 13,
   "metadata": {},
   "outputs": [
    {
     "name": "stdout",
     "output_type": "stream",
     "text": [
      "[-0.31350819699340887, 1.7710117380694115, 0.13190934543623656, 4.731184665980468, 5.467678010573413, 4.664322661476152, 6.611340779573718, 7.0479705918681885, 7.170864710985221, 9.087710218408331, 11.000365886550695, 10.61890748248465, 11.624330576921006, 12.92552923710602, 14.43349633007657, 16.278379230271867, 15.365320694820637, 17.508396242683432, 18.216116006263682, 17.141387613876503, 19.580683517847312, 20.867671101563257, 21.960429760306393, 23.32600343338698, 21.959676951271284, 25.046255523141696, 25.322324422671958, 25.56056097326138, 28.52429643001035, 29.735279576065203]\n"
     ]
    }
   ],
   "source": [
    "from numpy.random import randn\n",
    "\n",
    "def gen_data(x0, dx, count, noise_factor):\n",
    "    return [x0 + dx*i + randn()*noise_factor for i in range(count)]\n",
    "\n",
    "measurements = gen_data(0, 1, 30, 1)\n",
    "print(measurements)"
   ]
  },
  {
   "cell_type": "code",
   "execution_count": 3,
   "metadata": {},
   "outputs": [
    {
     "data": {
      "text/plain": [
       "array([0.1875, 0.1875, 0.0625, 0.0625, 0.0625, 0.0625, 0.0625, 0.0625,\n",
       "       0.1875, 0.0625])"
      ]
     },
     "execution_count": 3,
     "metadata": {},
     "output_type": "execute_result"
    }
   ],
   "source": [
    "# discrete bayesian filter\n",
    "\n",
    "import numpy as np\n",
    "\n",
    "map = np.array([1,1,0,0,0,0,0,0,1,0]) # map\n",
    "\n",
    "belief = np.array([1/10]*10) # prior (initial beleif)\n",
    "\n",
    "def update_belief(map, belief, z, z_prob):\n",
    "    scale = z_prob / (1 - z_prob)\n",
    "    belief[map==z] *= scale\n",
    "    belief /= np.sum(belief)\n",
    "    return belief\n",
    "\n",
    "update_belief(map, belief, 1, 0.75)"
   ]
  },
  {
   "cell_type": "code",
   "execution_count": 5,
   "metadata": {},
   "outputs": [
    {
     "data": {
      "text/plain": [
       "array([0.  , 0.  , 0.  , 0.04, 0.38, 0.52, 0.06, 0.  , 0.  , 0.  ])"
      ]
     },
     "execution_count": 5,
     "metadata": {},
     "output_type": "execute_result"
    }
   ],
   "source": [
    "def predict_move(belief, move, p_under, p_correct, p_over):\n",
    "    n = len(belief)\n",
    "    prior = np.zeros(n)\n",
    "    for i in range(n):\n",
    "        prior[i] = (\n",
    "            belief[(i-move) % n]   * p_correct +\n",
    "            belief[(i-move-1) % n] * p_over +\n",
    "            belief[(i-move+1) % n] * p_under)      \n",
    "    return prior\n",
    "\n",
    "belief = [0., 0., .4, .6, 0., 0., 0., 0., 0., 0.]\n",
    "predict_move(belief, 2, .1, .8, .1)\n"
   ]
  },
  {
   "cell_type": "code",
   "execution_count": 14,
   "metadata": {},
   "outputs": [
    {
     "data": {
      "text/plain": [
       "3"
      ]
     },
     "execution_count": 14,
     "metadata": {},
     "output_type": "execute_result"
    }
   ],
   "source": [
    "def predict_move_convolution(pdf, offset, kernel):\n",
    "    N = len(pdf)\n",
    "    kN = len(kernel)\n",
    "    width = int((kN - 1) / 2)\n",
    "\n",
    "    prior = np.zeros(N)\n",
    "    for i in range(N):\n",
    "        for k in range (kN):\n",
    "            index = (i + (width-k) - offset) % N\n",
    "            prior[i] += pdf[index] * kernel[k]\n",
    "    return prior"
   ]
  },
  {
   "cell_type": "code",
   "execution_count": 19,
   "metadata": {},
   "outputs": [
    {
     "data": {
      "text/plain": [
       "(10.799999999999999, 0.008000000000000002)"
      ]
     },
     "execution_count": 19,
     "metadata": {},
     "output_type": "execute_result"
    }
   ],
   "source": [
    "def gaussian_multiply(g1, g2):\n",
    "    mu1, var1 = g1\n",
    "    mu2, var2 = g2\n",
    "    mean = (var1 * mu2 + var2 * mu1) / (var1 + var2)\n",
    "    variance = (var1 * var2) / (var1 + var2)\n",
    "    return (mean, variance)\n",
    "\n",
    "def update(likelihood, prior):\n",
    "    posterior = gaussian_multiply(likelihood, prior)\n",
    "    return posterior\n",
    "\n",
    "def predict(x, v):\n",
    "    return (x[0] + v[0], x[1] + v[1])\n",
    "\n",
    "g1 = (10., .2 ** 2)\n",
    "g2 = (11., .1 ** 2)\n",
    "estimate = update(g1, g2)\n",
    "estimate"
   ]
  },
  {
   "cell_type": "code",
   "execution_count": 22,
   "metadata": {},
   "outputs": [],
   "source": [
    "def update(prior, measurement):\n",
    "    x, P = prior        # mean and variance of prior\n",
    "    z, R = measurement  # mean and variance of measurement\n",
    "    \n",
    "    y = z - x        # residual\n",
    "    K = P / (P + R)  # Kalman gain\n",
    "\n",
    "    x = x + K*y      # posterior\n",
    "    P = (1 - K) * P  # posterior variance\n",
    "    return gaussian(x, P)\n",
    "\n",
    "def predict(posterior, movement):\n",
    "    x, P = posterior # mean and variance of posterior\n",
    "    dx, Q = movement # mean and variance of movement\n",
    "    x = x + dx\n",
    "    P = P + Q\n",
    "    return gaussian(x, P)\n",
    "\n",
    "initial_mean = 0  # Initial mean of the state\n",
    "initial_variance = 1  # Initial variance of the state\n",
    "measurement_mean = 2  # Measurement mean\n",
    "measurement_variance = 0.1  # Measurement variance\n",
    "movement_mean = 1  # Movement mean (change in state)\n",
    "movement_variance = 0.01  # Movement variance\n",
    "\n"
   ]
  },
  {
   "cell_type": "code",
   "execution_count": 1,
   "metadata": {},
   "outputs": [
    {
     "ename": "ValueError",
     "evalue": "operands could not be broadcast together with shapes (2,) (3,) ",
     "output_type": "error",
     "traceback": [
      "\u001b[1;31m---------------------------------------------------------------------------\u001b[0m",
      "\u001b[1;31mValueError\u001b[0m                                Traceback (most recent call last)",
      "Cell \u001b[1;32mIn[1], line 38\u001b[0m\n\u001b[0;32m     35\u001b[0m     P \u001b[39m=\u001b[39m (\u001b[39m1\u001b[39m \u001b[39m-\u001b[39m K) \u001b[39m*\u001b[39m P\n\u001b[0;32m     37\u001b[0m     \u001b[39m# Update estimated state\u001b[39;00m\n\u001b[1;32m---> 38\u001b[0m     p_hat[k \u001b[39m+\u001b[39m \u001b[39m1\u001b[39m] \u001b[39m=\u001b[39m p_hat[k] \u001b[39m+\u001b[39m K \u001b[39m*\u001b[39m (ϵ[k] \u001b[39m-\u001b[39;49m (p_hat[k] \u001b[39m-\u001b[39;49m p[k]))\n\u001b[0;32m     40\u001b[0m \u001b[39m# Update true state (for simulation purposes)\u001b[39;00m\n\u001b[0;32m     41\u001b[0m p[k \u001b[39m+\u001b[39m \u001b[39m1\u001b[39m] \u001b[39m=\u001b[39m p[k] \u001b[39m+\u001b[39m true_grad[k] \u001b[39m+\u001b[39m ϵ[k]\n",
      "\u001b[1;31mValueError\u001b[0m: operands could not be broadcast together with shapes (2,) (3,) "
     ]
    }
   ],
   "source": [
    "import numpy as np\n",
    "\n",
    "# Define system parameters\n",
    "num_iter = 100  # Number of iterations\n",
    "n = 3  # Dimension of state vector\n",
    "m = 2  # Dimension of measurement vector\n",
    "\n",
    "# Generate some example data\n",
    "true_grad = np.random.rand(num_iter, n)\n",
    "ϵ = np.random.randn(num_iter, m)  # Measurement noise\n",
    "\n",
    "# Initialize variables\n",
    "P = np.identity(n)  # Initial covariance matrix\n",
    "K = np.zeros((n, m))  # Initial Kalman gain matrix\n",
    "\n",
    "# Initialize state estimates\n",
    "p_hat = np.zeros((num_iter, n))  # Estimated state vector\n",
    "p = np.zeros((num_iter, n))  # True state vector\n",
    "\n",
    "# Main loop\n",
    "for k in range(num_iter - 1):\n",
    "    for i, y in enumerate(true_grad[k]):\n",
    "        R = 0.2  # Measurement noise\n",
    "        P = 1    # Process noise\n",
    "        \n",
    "        # Calculate Kalman gain\n",
    "        K = P / (P + R)\n",
    "        \n",
    "        if i == 0:\n",
    "            p[k + 1, 1] = p[k, 1] + K * (y - (p[k, 1] - p[k, 0]))\n",
    "        else:\n",
    "            p[k + 1, i] = p[k, i] + K * (y - (p[k, i] - p[k, i - 1]))\n",
    "        \n",
    "        # Update covariance matrix\n",
    "        P = (1 - K) * P\n",
    "        \n",
    "        # Update estimated state\n",
    "        p_hat[k + 1] = p_hat[k] + K * (ϵ[k] - (p_hat[k] - p[k]))\n",
    "    \n",
    "    # Update true state (for simulation purposes)\n",
    "    p[k + 1] = p[k] + true_grad[k] + ϵ[k]\n",
    "\n",
    "# Print or visualize the results as needed\n"
   ]
  },
  {
   "cell_type": "code",
   "execution_count": 3,
   "metadata": {},
   "outputs": [
    {
     "name": "stdout",
     "output_type": "stream",
     "text": [
      "Pressure field:  [0.         1.08826646 2.2150382  3.24335587 4.17634469 5.28068624\n",
      " 6.26174791 7.22680444 8.27316285 9.3155836 ]\n",
      "Error:  [0.         0.08826646 0.2150382  0.24335587 0.17634469 0.28068624\n",
      " 0.26174791 0.22680444 0.27316285 0.3155836 ]\n"
     ]
    }
   ],
   "source": [
    "import numpy as np\n",
    "import matplotlib.pyplot as plt\n",
    "\n",
    "# --- data --- #\n",
    "ideal_p = np.arange(0, 10, 1) # define the true pressure field\n",
    "ideal_grad = np.gradient(ideal_p) # define true gradient\n",
    "noise = np.random.normal(0, 0.08, 10) # generate noise\n",
    "mrd_grad = ideal_grad + noise # add noise to gradient\n",
    "\n",
    "# --- initialization --- #\n",
    "num_iter = 100000 # define number of iterations\n",
    "grid = np.zeros((num_iter, 10)) # define the grid\n",
    "init_p = np.abs(np.random.normal(0, 10, 10)) # define initial pressure field\n",
    "grid[0] = init_p # initialize the grid\n",
    "grid[:, 0] = 0 # apply dirichlet condition to the grid\n",
    "p = grid\n",
    "\n",
    "# --- solver --- #\n",
    "for i, y in enumerate(mrd_grad):\n",
    "    K = 0.2 \n",
    "    for k in range(num_iter-1):\n",
    "        if i == 0:\n",
    "            p[k+1, 1] = p[k, 1] + K * (y - (p[k, 1] - p[k, 0]))\n",
    "        else:\n",
    "            p[k+1, i] = p[k, i] + K * (y - (p[k, i] - p[k, i-1]))\n",
    "print('Pressure field: ', p[-1])\n",
    "        \n",
    "# --- error --- #\n",
    "error = np.abs(ideal_p - p[-1])\n",
    "print('Error: ', error)"
   ]
  },
  {
   "cell_type": "code",
   "execution_count": null,
   "metadata": {},
   "outputs": [],
   "source": [
    "import numpy as np\n",
    "import matplotlib.pyplot as plt\n",
    "\n",
    "num_points = 100  # grid spacing\n",
    "num_iter = 100000  # number of iterations\n",
    "np.random.seed(42)  # set same random numbers\n",
    "\n",
    "# Data (synthetic pressure field, gradient, and experimental measurement data)\n",
    "x = np.linspace(0, 1, num_points)  # normalized space\n",
    "true_pressure = (\n",
    "    0.5 * np.sin(2 * np.pi * 1 * x) +\n",
    "    0.3 * np.sin(2 * np.pi * 3 * x) +\n",
    "    0.2 * np.sin(2 * np.pi * 5 * x)\n",
    ")\n",
    "true_gradient = np.gradient(true_pressure)  # true gradient\n",
    "noise = np.random.normal(0, 0.01, num_points)  # noise (normally distributed)\n",
    "noisy_gradient = true_gradient + noise  # noisy gradient\n",
    "\n",
    "# Solver\n",
    "p = np.zeros((num_iter, num_points))  # initialize grid\n",
    "p[0] = np.abs(np.random.normal(0, 10, num_points))  # initialize pressure field\n",
    "p[:, 0] = true_pressure[0]  # dirichlet condition\n",
    "\n",
    "for i, z in enumerate(noisy_gradient):\n",
    "    \n",
    "    # Observer parameters\n",
    "    P = 0.1  # posterior / prior variance\n",
    "    R = 0.01  # measurement noise variance\n",
    "    Q = 0.001  # gradient estimation variance (p[k,i]-p[k,i-1])\n",
    "\n",
    "    for k in range(num_iter - 1):\n",
    "        \n",
    "        # Predict\n",
    "        P = P + Q\n",
    "\n",
    "        # Update\n",
    "        K = P / (P + R)  # Kalman gain\n",
    "        if i == 0:\n",
    "            p[k+1, 1] = p[k, 1] + K * (z - (p[k, 1] - p[k, 0]))  # posterior\n",
    "        else:\n",
    "            p[k+1, i] = p[k, i] + K * (z - (p[k, i] - p[k, i-1]))  # posterior\n",
    "        P = (1 - K) * P  # posterior variance\n",
    "\n",
    "# Results\n",
    "sim_pressure = p[-1]\n",
    "error = np.abs(true_pressure - sim_pressure)\n",
    "\n",
    "# Display\n",
    "# print('True Pressure Field:', true_pressure)\n",
    "# print('Calculated Pressure Field:', sim_pressure)\n",
    "print('Max Error:', np.max(error))\n",
    "\n",
    "# Visualization\n",
    "plt.figure(figsize=(10, 6))\n",
    "plt.plot(true_pressure, label='True Pressure Field')\n",
    "plt.plot(sim_pressure, label='Calculated Pressure Field')\n",
    "plt.legend()\n",
    "plt.title('True vs Calculated Pressure Field')\n",
    "plt.xlabel('Grid Index')\n",
    "plt.ylabel('Pressure')\n",
    "plt.show()\n"
   ]
  }
 ],
 "metadata": {
  "kernelspec": {
   "display_name": "numerical_stuff",
   "language": "python",
   "name": "python3"
  },
  "language_info": {
   "codemirror_mode": {
    "name": "ipython",
    "version": 3
   },
   "file_extension": ".py",
   "mimetype": "text/x-python",
   "name": "python",
   "nbconvert_exporter": "python",
   "pygments_lexer": "ipython3",
   "version": "3.11.4"
  },
  "orig_nbformat": 4
 },
 "nbformat": 4,
 "nbformat_minor": 2
}
